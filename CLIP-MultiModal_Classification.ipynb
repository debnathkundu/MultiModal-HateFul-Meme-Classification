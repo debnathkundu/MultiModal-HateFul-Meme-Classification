{
  "cells": [
    {
      "cell_type": "markdown",
      "id": "6a6fc923",
      "metadata": {
        "id": "6a6fc923"
      },
      "source": [
        "# Importing all necessary files"
      ]
    },
    {
      "cell_type": "code",
      "execution_count": null,
      "id": "4825ef05",
      "metadata": {
        "id": "4825ef05"
      },
      "outputs": [],
      "source": [
        "from transformers import CLIPProcessor, CLIPModel\n",
        "from PIL import Image\n",
        "import os\n",
        "from sklearn.manifold import TSNE\n",
        "import torch\n",
        "import torchvision.transforms as transforms\n",
        "from PIL import Image\n",
        "from tensorflow.keras.layers import LSTM, Dense, Dropout, Embedding, Bidirectional\n",
        "from tensorflow.keras.models import Sequential\n",
        "import tensorflow as tf\n",
        "import pandas as pd\n",
        "import numpy as np\n",
        "from tensorflow.keras.preprocessing.image import ImageDataGenerator\n",
        "from tensorflow.keras.preprocessing.text import Tokenizer\n",
        "from tensorflow.keras.layers import Input, Dense, Embedding, Conv2D, MaxPooling2D, LSTM, concatenate, Flatten\n",
        "from tensorflow.keras.models import Model\n",
        "from tensorflow.keras.preprocessing.sequence import pad_sequences\n",
        "import matplotlib.pyplot as plt\n",
        "from sklearn.metrics import classification_report\n",
        "from sklearn.model_selection import train_test_split\n",
        "from tensorflow.keras.layers import Input, Dense, Dropout, concatenate\n",
        "from tensorflow.keras.models import Model\n",
        "from tensorflow.keras.optimizers import Adam\n",
        "from tensorflow.keras.callbacks import EarlyStopping\n",
        "from tensorflow.keras import layers\n",
        "from tensorflow.keras.models import load_model"
      ]
    },
    {
      "cell_type": "code",
      "execution_count": null,
      "id": "260ef79b",
      "metadata": {
        "id": "260ef79b"
      },
      "outputs": [],
      "source": [
        "# Set the GPU device\n",
        "#os.environ['CUDA_VISIBLE_DEVICES'] = '0' # Use GPU 0\n",
        "# Create a TensorFlow session\n",
        "#config = tf.ConfigProto()\n",
        "#config.gpu_options.allow_growth = True\n",
        "#sess = tf.Session(config=config)"
      ]
    },
    {
      "cell_type": "markdown",
      "id": "a88eec48",
      "metadata": {
        "id": "a88eec48"
      },
      "source": [
        "# Loading Clip Model"
      ]
    },
    {
      "cell_type": "code",
      "execution_count": null,
      "id": "baca2fba",
      "metadata": {
        "id": "baca2fba"
      },
      "outputs": [],
      "source": [
        "# Load CLIP model and tokenizer\n",
        "model_name = 'openai/clip-vit-base-patch32'\n",
        "model = CLIPModel.from_pretrained(model_name)\n",
        "tokenizer = CLIPProcessor.from_pretrained(model_name)"
      ]
    },
    {
      "cell_type": "markdown",
      "id": "69bcb1c7",
      "metadata": {
        "id": "69bcb1c7"
      },
      "source": [
        "# Fetching data set"
      ]
    },
    {
      "cell_type": "code",
      "execution_count": null,
      "id": "ba767dac",
      "metadata": {
        "id": "ba767dac"
      },
      "outputs": [],
      "source": [
        "train = pd.read_json(\"data/train.jsonl\", lines=True)\n",
        "val = pd.read_json(\"data/dev_seen.jsonl\", lines=True)\n",
        "test = pd.read_json(\"data/test_seen.jsonl\", lines=True)"
      ]
    },
    {
      "cell_type": "code",
      "execution_count": null,
      "id": "0ba2dd44",
      "metadata": {
        "scrolled": false,
        "id": "0ba2dd44",
        "outputId": "6bd07608-4603-48a7-ba8d-028fdafe51c0"
      },
      "outputs": [
        {
          "data": {
            "text/html": [
              "<div>\n",
              "<style scoped>\n",
              "    .dataframe tbody tr th:only-of-type {\n",
              "        vertical-align: middle;\n",
              "    }\n",
              "\n",
              "    .dataframe tbody tr th {\n",
              "        vertical-align: top;\n",
              "    }\n",
              "\n",
              "    .dataframe thead th {\n",
              "        text-align: right;\n",
              "    }\n",
              "</style>\n",
              "<table border=\"1\" class=\"dataframe\">\n",
              "  <thead>\n",
              "    <tr style=\"text-align: right;\">\n",
              "      <th></th>\n",
              "      <th>id</th>\n",
              "      <th>img</th>\n",
              "      <th>label</th>\n",
              "      <th>text</th>\n",
              "    </tr>\n",
              "  </thead>\n",
              "  <tbody>\n",
              "    <tr>\n",
              "      <th>0</th>\n",
              "      <td>42953</td>\n",
              "      <td>img/42953.png</td>\n",
              "      <td>0</td>\n",
              "      <td>its their character not their color that matters</td>\n",
              "    </tr>\n",
              "    <tr>\n",
              "      <th>1</th>\n",
              "      <td>23058</td>\n",
              "      <td>img/23058.png</td>\n",
              "      <td>0</td>\n",
              "      <td>don't be afraid to love again everyone is not ...</td>\n",
              "    </tr>\n",
              "    <tr>\n",
              "      <th>2</th>\n",
              "      <td>13894</td>\n",
              "      <td>img/13894.png</td>\n",
              "      <td>0</td>\n",
              "      <td>putting bows on your pet</td>\n",
              "    </tr>\n",
              "    <tr>\n",
              "      <th>3</th>\n",
              "      <td>37408</td>\n",
              "      <td>img/37408.png</td>\n",
              "      <td>0</td>\n",
              "      <td>i love everything and everybody! except for sq...</td>\n",
              "    </tr>\n",
              "    <tr>\n",
              "      <th>4</th>\n",
              "      <td>82403</td>\n",
              "      <td>img/82403.png</td>\n",
              "      <td>0</td>\n",
              "      <td>everybody loves chocolate chip cookies, even h...</td>\n",
              "    </tr>\n",
              "    <tr>\n",
              "      <th>...</th>\n",
              "      <td>...</td>\n",
              "      <td>...</td>\n",
              "      <td>...</td>\n",
              "      <td>...</td>\n",
              "    </tr>\n",
              "    <tr>\n",
              "      <th>8495</th>\n",
              "      <td>10423</td>\n",
              "      <td>img/10423.png</td>\n",
              "      <td>1</td>\n",
              "      <td>nobody wants to hang auschwitz me</td>\n",
              "    </tr>\n",
              "    <tr>\n",
              "      <th>8496</th>\n",
              "      <td>98203</td>\n",
              "      <td>img/98203.png</td>\n",
              "      <td>1</td>\n",
              "      <td>when god grants you a child after 20 years of ...</td>\n",
              "    </tr>\n",
              "    <tr>\n",
              "      <th>8497</th>\n",
              "      <td>36947</td>\n",
              "      <td>img/36947.png</td>\n",
              "      <td>1</td>\n",
              "      <td>gays on social media: equality! body positivit...</td>\n",
              "    </tr>\n",
              "    <tr>\n",
              "      <th>8498</th>\n",
              "      <td>16492</td>\n",
              "      <td>img/16492.png</td>\n",
              "      <td>1</td>\n",
              "      <td>having a bad day? you could be a siamese twin ...</td>\n",
              "    </tr>\n",
              "    <tr>\n",
              "      <th>8499</th>\n",
              "      <td>15937</td>\n",
              "      <td>img/15937.png</td>\n",
              "      <td>1</td>\n",
              "      <td>i hate muslims too they take their religion to...</td>\n",
              "    </tr>\n",
              "  </tbody>\n",
              "</table>\n",
              "<p>8500 rows × 4 columns</p>\n",
              "</div>"
            ],
            "text/plain": [
              "         id            img  label  \\\n",
              "0     42953  img/42953.png      0   \n",
              "1     23058  img/23058.png      0   \n",
              "2     13894  img/13894.png      0   \n",
              "3     37408  img/37408.png      0   \n",
              "4     82403  img/82403.png      0   \n",
              "...     ...            ...    ...   \n",
              "8495  10423  img/10423.png      1   \n",
              "8496  98203  img/98203.png      1   \n",
              "8497  36947  img/36947.png      1   \n",
              "8498  16492  img/16492.png      1   \n",
              "8499  15937  img/15937.png      1   \n",
              "\n",
              "                                                   text  \n",
              "0      its their character not their color that matters  \n",
              "1     don't be afraid to love again everyone is not ...  \n",
              "2                              putting bows on your pet  \n",
              "3     i love everything and everybody! except for sq...  \n",
              "4     everybody loves chocolate chip cookies, even h...  \n",
              "...                                                 ...  \n",
              "8495                  nobody wants to hang auschwitz me  \n",
              "8496  when god grants you a child after 20 years of ...  \n",
              "8497  gays on social media: equality! body positivit...  \n",
              "8498  having a bad day? you could be a siamese twin ...  \n",
              "8499  i hate muslims too they take their religion to...  \n",
              "\n",
              "[8500 rows x 4 columns]"
            ]
          },
          "execution_count": 5,
          "metadata": {},
          "output_type": "execute_result"
        }
      ],
      "source": [
        "train"
      ]
    },
    {
      "cell_type": "markdown",
      "id": "d0c083dc",
      "metadata": {
        "id": "d0c083dc"
      },
      "source": [
        "# Reducing Train Test and Val data set for faster preprocessing"
      ]
    },
    {
      "cell_type": "code",
      "execution_count": null,
      "id": "e6f78c85",
      "metadata": {
        "id": "e6f78c85"
      },
      "outputs": [],
      "source": [
        "train_l = train['label']\n",
        "train.drop(['label'], axis=1, inplace=True)"
      ]
    },
    {
      "cell_type": "code",
      "execution_count": null,
      "id": "465543b6",
      "metadata": {
        "id": "465543b6"
      },
      "outputs": [],
      "source": [
        "tx,train,ty,train_label = train_test_split(train, train_l, stratify = train_l, test_size=0.10)"
      ]
    },
    {
      "cell_type": "code",
      "execution_count": null,
      "id": "2beebe71",
      "metadata": {
        "id": "2beebe71",
        "outputId": "72da4548-77c9-4c12-d9e5-4f11bf42d282"
      },
      "outputs": [
        {
          "data": {
            "text/plain": [
              "850"
            ]
          },
          "execution_count": 8,
          "metadata": {},
          "output_type": "execute_result"
        }
      ],
      "source": [
        "len(train)"
      ]
    },
    {
      "cell_type": "code",
      "execution_count": null,
      "id": "b17ffa96",
      "metadata": {
        "scrolled": true,
        "id": "b17ffa96",
        "outputId": "98cec163-3682-47b5-95aa-fecebdcf1ada"
      },
      "outputs": [
        {
          "data": {
            "text/html": [
              "<div>\n",
              "<style scoped>\n",
              "    .dataframe tbody tr th:only-of-type {\n",
              "        vertical-align: middle;\n",
              "    }\n",
              "\n",
              "    .dataframe tbody tr th {\n",
              "        vertical-align: top;\n",
              "    }\n",
              "\n",
              "    .dataframe thead th {\n",
              "        text-align: right;\n",
              "    }\n",
              "</style>\n",
              "<table border=\"1\" class=\"dataframe\">\n",
              "  <thead>\n",
              "    <tr style=\"text-align: right;\">\n",
              "      <th></th>\n",
              "      <th>id</th>\n",
              "      <th>img</th>\n",
              "      <th>text</th>\n",
              "    </tr>\n",
              "  </thead>\n",
              "  <tbody>\n",
              "    <tr>\n",
              "      <th>2990</th>\n",
              "      <td>64957</td>\n",
              "      <td>img/64957.png</td>\n",
              "      <td>when your dishwasher is ready for another load</td>\n",
              "    </tr>\n",
              "    <tr>\n",
              "      <th>1732</th>\n",
              "      <td>79680</td>\n",
              "      <td>img/79680.png</td>\n",
              "      <td>when you finally graduate in a school in the usa</td>\n",
              "    </tr>\n",
              "    <tr>\n",
              "      <th>6328</th>\n",
              "      <td>58109</td>\n",
              "      <td>img/58109.png</td>\n",
              "      <td>no to transphobes give trans people peace</td>\n",
              "    </tr>\n",
              "    <tr>\n",
              "      <th>2602</th>\n",
              "      <td>87695</td>\n",
              "      <td>img/87695.png</td>\n",
              "      <td>dark humor is like him '' it never gets old</td>\n",
              "    </tr>\n",
              "    <tr>\n",
              "      <th>4350</th>\n",
              "      <td>48706</td>\n",
              "      <td>img/48706.png</td>\n",
              "      <td>would you help give a push if you were ask</td>\n",
              "    </tr>\n",
              "    <tr>\n",
              "      <th>...</th>\n",
              "      <td>...</td>\n",
              "      <td>...</td>\n",
              "      <td>...</td>\n",
              "    </tr>\n",
              "    <tr>\n",
              "      <th>8181</th>\n",
              "      <td>17698</td>\n",
              "      <td>img/17698.png</td>\n",
              "      <td>when the black kids start fighting at school</td>\n",
              "    </tr>\n",
              "    <tr>\n",
              "      <th>755</th>\n",
              "      <td>63871</td>\n",
              "      <td>img/63871.png</td>\n",
              "      <td>you can be any gender you want if you are ment...</td>\n",
              "    </tr>\n",
              "    <tr>\n",
              "      <th>7876</th>\n",
              "      <td>47516</td>\n",
              "      <td>img/47516.png</td>\n",
              "      <td>a dictator.. emphasis on the dic*</td>\n",
              "    </tr>\n",
              "    <tr>\n",
              "      <th>7382</th>\n",
              "      <td>48120</td>\n",
              "      <td>img/48120.png</td>\n",
              "      <td>rise of the planet of the apes (1963</td>\n",
              "    </tr>\n",
              "    <tr>\n",
              "      <th>3556</th>\n",
              "      <td>16720</td>\n",
              "      <td>img/16720.png</td>\n",
              "      <td>my birthday is close, i am excited</td>\n",
              "    </tr>\n",
              "  </tbody>\n",
              "</table>\n",
              "<p>850 rows × 3 columns</p>\n",
              "</div>"
            ],
            "text/plain": [
              "         id            img                                               text\n",
              "2990  64957  img/64957.png     when your dishwasher is ready for another load\n",
              "1732  79680  img/79680.png   when you finally graduate in a school in the usa\n",
              "6328  58109  img/58109.png          no to transphobes give trans people peace\n",
              "2602  87695  img/87695.png        dark humor is like him '' it never gets old\n",
              "4350  48706  img/48706.png         would you help give a push if you were ask\n",
              "...     ...            ...                                                ...\n",
              "8181  17698  img/17698.png       when the black kids start fighting at school\n",
              "755   63871  img/63871.png  you can be any gender you want if you are ment...\n",
              "7876  47516  img/47516.png                  a dictator.. emphasis on the dic*\n",
              "7382  48120  img/48120.png               rise of the planet of the apes (1963\n",
              "3556  16720  img/16720.png                 my birthday is close, i am excited\n",
              "\n",
              "[850 rows x 3 columns]"
            ]
          },
          "execution_count": 9,
          "metadata": {},
          "output_type": "execute_result"
        }
      ],
      "source": [
        "train"
      ]
    },
    {
      "cell_type": "code",
      "execution_count": null,
      "id": "e4c8f93c",
      "metadata": {
        "id": "e4c8f93c"
      },
      "outputs": [],
      "source": [
        "train_text = []\n",
        "for i in np.array(train['text']):\n",
        "    train_text.append(i)"
      ]
    },
    {
      "cell_type": "code",
      "execution_count": null,
      "id": "b2e16f30",
      "metadata": {
        "id": "b2e16f30",
        "outputId": "22307e7e-e1b8-4481-ea58-8ca23ba1f9a3"
      },
      "outputs": [
        {
          "data": {
            "text/plain": [
              "850"
            ]
          },
          "execution_count": 11,
          "metadata": {},
          "output_type": "execute_result"
        }
      ],
      "source": [
        "len(train_text)"
      ]
    },
    {
      "cell_type": "code",
      "execution_count": null,
      "id": "67371833",
      "metadata": {
        "scrolled": true,
        "id": "67371833",
        "outputId": "204d709b-0fe9-4bc2-bb67-b0d31a752fdb"
      },
      "outputs": [
        {
          "data": {
            "text/html": [
              "<div>\n",
              "<style scoped>\n",
              "    .dataframe tbody tr th:only-of-type {\n",
              "        vertical-align: middle;\n",
              "    }\n",
              "\n",
              "    .dataframe tbody tr th {\n",
              "        vertical-align: top;\n",
              "    }\n",
              "\n",
              "    .dataframe thead th {\n",
              "        text-align: right;\n",
              "    }\n",
              "</style>\n",
              "<table border=\"1\" class=\"dataframe\">\n",
              "  <thead>\n",
              "    <tr style=\"text-align: right;\">\n",
              "      <th></th>\n",
              "      <th>id</th>\n",
              "      <th>img</th>\n",
              "      <th>label</th>\n",
              "      <th>text</th>\n",
              "    </tr>\n",
              "  </thead>\n",
              "  <tbody>\n",
              "    <tr>\n",
              "      <th>0</th>\n",
              "      <td>16395</td>\n",
              "      <td>img/16395.png</td>\n",
              "      <td>1</td>\n",
              "      <td>handjobs sold seperately</td>\n",
              "    </tr>\n",
              "    <tr>\n",
              "      <th>1</th>\n",
              "      <td>37405</td>\n",
              "      <td>img/37405.png</td>\n",
              "      <td>1</td>\n",
              "      <td>introducing fidget spinner for women</td>\n",
              "    </tr>\n",
              "    <tr>\n",
              "      <th>2</th>\n",
              "      <td>94180</td>\n",
              "      <td>img/94180.png</td>\n",
              "      <td>1</td>\n",
              "      <td>happy pride month let's go beat up lesbians</td>\n",
              "    </tr>\n",
              "    <tr>\n",
              "      <th>3</th>\n",
              "      <td>54321</td>\n",
              "      <td>img/54321.png</td>\n",
              "      <td>1</td>\n",
              "      <td>laughs in [majority of u.s crime rate]</td>\n",
              "    </tr>\n",
              "    <tr>\n",
              "      <th>4</th>\n",
              "      <td>97015</td>\n",
              "      <td>img/97015.png</td>\n",
              "      <td>1</td>\n",
              "      <td>finds out those 72 virgins.. are goats</td>\n",
              "    </tr>\n",
              "    <tr>\n",
              "      <th>...</th>\n",
              "      <td>...</td>\n",
              "      <td>...</td>\n",
              "      <td>...</td>\n",
              "      <td>...</td>\n",
              "    </tr>\n",
              "    <tr>\n",
              "      <th>995</th>\n",
              "      <td>3869</td>\n",
              "      <td>img/03869.png</td>\n",
              "      <td>0</td>\n",
              "      <td>a mother's love for the child is a divine thing</td>\n",
              "    </tr>\n",
              "    <tr>\n",
              "      <th>996</th>\n",
              "      <td>23817</td>\n",
              "      <td>img/23817.png</td>\n",
              "      <td>0</td>\n",
              "      <td>sea monkeys</td>\n",
              "    </tr>\n",
              "    <tr>\n",
              "      <th>997</th>\n",
              "      <td>56280</td>\n",
              "      <td>img/56280.png</td>\n",
              "      <td>0</td>\n",
              "      <td>little miss muffet sat on her tuffet</td>\n",
              "    </tr>\n",
              "    <tr>\n",
              "      <th>998</th>\n",
              "      <td>29384</td>\n",
              "      <td>img/29384.png</td>\n",
              "      <td>0</td>\n",
              "      <td>they're in a row</td>\n",
              "    </tr>\n",
              "    <tr>\n",
              "      <th>999</th>\n",
              "      <td>34127</td>\n",
              "      <td>img/34127.png</td>\n",
              "      <td>0</td>\n",
              "      <td>that feeling when you win a fifa game after be...</td>\n",
              "    </tr>\n",
              "  </tbody>\n",
              "</table>\n",
              "<p>1000 rows × 4 columns</p>\n",
              "</div>"
            ],
            "text/plain": [
              "        id            img  label  \\\n",
              "0    16395  img/16395.png      1   \n",
              "1    37405  img/37405.png      1   \n",
              "2    94180  img/94180.png      1   \n",
              "3    54321  img/54321.png      1   \n",
              "4    97015  img/97015.png      1   \n",
              "..     ...            ...    ...   \n",
              "995   3869  img/03869.png      0   \n",
              "996  23817  img/23817.png      0   \n",
              "997  56280  img/56280.png      0   \n",
              "998  29384  img/29384.png      0   \n",
              "999  34127  img/34127.png      0   \n",
              "\n",
              "                                                  text  \n",
              "0                             handjobs sold seperately  \n",
              "1                 introducing fidget spinner for women  \n",
              "2          happy pride month let's go beat up lesbians  \n",
              "3               laughs in [majority of u.s crime rate]  \n",
              "4               finds out those 72 virgins.. are goats  \n",
              "..                                                 ...  \n",
              "995    a mother's love for the child is a divine thing  \n",
              "996                                        sea monkeys  \n",
              "997               little miss muffet sat on her tuffet  \n",
              "998                                   they're in a row  \n",
              "999  that feeling when you win a fifa game after be...  \n",
              "\n",
              "[1000 rows x 4 columns]"
            ]
          },
          "execution_count": 12,
          "metadata": {},
          "output_type": "execute_result"
        }
      ],
      "source": [
        "test"
      ]
    },
    {
      "cell_type": "code",
      "execution_count": null,
      "id": "abbeacf7",
      "metadata": {
        "id": "abbeacf7"
      },
      "outputs": [],
      "source": [
        "test_l = test['label']\n",
        "test.drop(['label'], axis=1, inplace=True)"
      ]
    },
    {
      "cell_type": "code",
      "execution_count": null,
      "id": "46984e5e",
      "metadata": {
        "id": "46984e5e"
      },
      "outputs": [],
      "source": [
        "tx,test,ty,test_label = train_test_split(test, test_l, stratify = test_l, test_size=0.99)"
      ]
    },
    {
      "cell_type": "code",
      "execution_count": null,
      "id": "03285955",
      "metadata": {
        "id": "03285955"
      },
      "outputs": [],
      "source": [
        "test_text = []\n",
        "for i in np.array(test['text']):\n",
        "    test_text.append(i)"
      ]
    },
    {
      "cell_type": "code",
      "execution_count": null,
      "id": "f9e12329",
      "metadata": {
        "id": "f9e12329",
        "outputId": "342e16bb-a70c-4914-94bb-53121b47b514"
      },
      "outputs": [
        {
          "data": {
            "text/plain": [
              "990"
            ]
          },
          "execution_count": 16,
          "metadata": {},
          "output_type": "execute_result"
        }
      ],
      "source": [
        "len(test_text)"
      ]
    },
    {
      "cell_type": "code",
      "execution_count": null,
      "id": "10aee89e",
      "metadata": {
        "scrolled": true,
        "id": "10aee89e",
        "outputId": "9c5c9d0d-8914-4039-9595-aabe716eaa6f"
      },
      "outputs": [
        {
          "data": {
            "text/html": [
              "<div>\n",
              "<style scoped>\n",
              "    .dataframe tbody tr th:only-of-type {\n",
              "        vertical-align: middle;\n",
              "    }\n",
              "\n",
              "    .dataframe tbody tr th {\n",
              "        vertical-align: top;\n",
              "    }\n",
              "\n",
              "    .dataframe thead th {\n",
              "        text-align: right;\n",
              "    }\n",
              "</style>\n",
              "<table border=\"1\" class=\"dataframe\">\n",
              "  <thead>\n",
              "    <tr style=\"text-align: right;\">\n",
              "      <th></th>\n",
              "      <th>id</th>\n",
              "      <th>img</th>\n",
              "      <th>label</th>\n",
              "      <th>text</th>\n",
              "    </tr>\n",
              "  </thead>\n",
              "  <tbody>\n",
              "    <tr>\n",
              "      <th>0</th>\n",
              "      <td>8291</td>\n",
              "      <td>img/08291.png</td>\n",
              "      <td>1</td>\n",
              "      <td>white people is this a shooting range</td>\n",
              "    </tr>\n",
              "    <tr>\n",
              "      <th>1</th>\n",
              "      <td>46971</td>\n",
              "      <td>img/46971.png</td>\n",
              "      <td>1</td>\n",
              "      <td>bravery at its finest</td>\n",
              "    </tr>\n",
              "    <tr>\n",
              "      <th>2</th>\n",
              "      <td>3745</td>\n",
              "      <td>img/03745.png</td>\n",
              "      <td>1</td>\n",
              "      <td>your order comes to $37.50 and your white priv...</td>\n",
              "    </tr>\n",
              "    <tr>\n",
              "      <th>3</th>\n",
              "      <td>83745</td>\n",
              "      <td>img/83745.png</td>\n",
              "      <td>1</td>\n",
              "      <td>it is time.. to send these parasites back to t...</td>\n",
              "    </tr>\n",
              "    <tr>\n",
              "      <th>4</th>\n",
              "      <td>80243</td>\n",
              "      <td>img/80243.png</td>\n",
              "      <td>1</td>\n",
              "      <td>mississippi wind chime</td>\n",
              "    </tr>\n",
              "    <tr>\n",
              "      <th>...</th>\n",
              "      <td>...</td>\n",
              "      <td>...</td>\n",
              "      <td>...</td>\n",
              "      <td>...</td>\n",
              "    </tr>\n",
              "    <tr>\n",
              "      <th>495</th>\n",
              "      <td>83675</td>\n",
              "      <td>img/83675.png</td>\n",
              "      <td>0</td>\n",
              "      <td>i'm gonna be like phelps one day</td>\n",
              "    </tr>\n",
              "    <tr>\n",
              "      <th>496</th>\n",
              "      <td>37198</td>\n",
              "      <td>img/37198.png</td>\n",
              "      <td>0</td>\n",
              "      <td>when you're so relaxed you can feel yourself g...</td>\n",
              "    </tr>\n",
              "    <tr>\n",
              "      <th>497</th>\n",
              "      <td>48670</td>\n",
              "      <td>img/48670.png</td>\n",
              "      <td>0</td>\n",
              "      <td>look at this sandwich maker club i found on wi...</td>\n",
              "    </tr>\n",
              "    <tr>\n",
              "      <th>498</th>\n",
              "      <td>9863</td>\n",
              "      <td>img/09863.png</td>\n",
              "      <td>0</td>\n",
              "      <td>diverse group of women</td>\n",
              "    </tr>\n",
              "    <tr>\n",
              "      <th>499</th>\n",
              "      <td>97320</td>\n",
              "      <td>img/97320.png</td>\n",
              "      <td>0</td>\n",
              "      <td>\"when your dishwasher is broken so you take it...</td>\n",
              "    </tr>\n",
              "  </tbody>\n",
              "</table>\n",
              "<p>500 rows × 4 columns</p>\n",
              "</div>"
            ],
            "text/plain": [
              "        id            img  label  \\\n",
              "0     8291  img/08291.png      1   \n",
              "1    46971  img/46971.png      1   \n",
              "2     3745  img/03745.png      1   \n",
              "3    83745  img/83745.png      1   \n",
              "4    80243  img/80243.png      1   \n",
              "..     ...            ...    ...   \n",
              "495  83675  img/83675.png      0   \n",
              "496  37198  img/37198.png      0   \n",
              "497  48670  img/48670.png      0   \n",
              "498   9863  img/09863.png      0   \n",
              "499  97320  img/97320.png      0   \n",
              "\n",
              "                                                  text  \n",
              "0                white people is this a shooting range  \n",
              "1                                bravery at its finest  \n",
              "2    your order comes to $37.50 and your white priv...  \n",
              "3    it is time.. to send these parasites back to t...  \n",
              "4                               mississippi wind chime  \n",
              "..                                                 ...  \n",
              "495                   i'm gonna be like phelps one day  \n",
              "496  when you're so relaxed you can feel yourself g...  \n",
              "497  look at this sandwich maker club i found on wi...  \n",
              "498                             diverse group of women  \n",
              "499  \"when your dishwasher is broken so you take it...  \n",
              "\n",
              "[500 rows x 4 columns]"
            ]
          },
          "execution_count": 17,
          "metadata": {},
          "output_type": "execute_result"
        }
      ],
      "source": [
        "val"
      ]
    },
    {
      "cell_type": "code",
      "execution_count": null,
      "id": "455088fc",
      "metadata": {
        "id": "455088fc"
      },
      "outputs": [],
      "source": [
        "val_l = val['label']\n",
        "val.drop(['label'], axis=1, inplace=True)"
      ]
    },
    {
      "cell_type": "code",
      "execution_count": null,
      "id": "203d3ec6",
      "metadata": {
        "id": "203d3ec6"
      },
      "outputs": [],
      "source": [
        "tx,val,ty,val_label = train_test_split(val, val_l, stratify = val_l, test_size=0.10)"
      ]
    },
    {
      "cell_type": "code",
      "execution_count": null,
      "id": "ab25fb55",
      "metadata": {
        "id": "ab25fb55"
      },
      "outputs": [],
      "source": [
        "val_text = []\n",
        "for i in np.array(val['text']):\n",
        "    val_text.append(i)"
      ]
    },
    {
      "cell_type": "code",
      "execution_count": null,
      "id": "d238c7aa",
      "metadata": {
        "id": "d238c7aa",
        "outputId": "21d63860-89f8-4697-c616-8f038085daeb"
      },
      "outputs": [
        {
          "data": {
            "text/plain": [
              "50"
            ]
          },
          "execution_count": 21,
          "metadata": {},
          "output_type": "execute_result"
        }
      ],
      "source": [
        "len(val_text)"
      ]
    },
    {
      "cell_type": "markdown",
      "id": "b90ad131",
      "metadata": {
        "id": "b90ad131"
      },
      "source": [
        "# Preprocessing text data"
      ]
    },
    {
      "cell_type": "code",
      "execution_count": null,
      "id": "732cdf44",
      "metadata": {
        "id": "732cdf44"
      },
      "outputs": [],
      "source": [
        "# Tokenize text and get embeddings\n",
        "text_tokens = tokenizer(train_text, padding=True, truncation=True, return_tensors=\"pt\")\n",
        "train_text_embedding = model.get_text_features(text_tokens['input_ids'], text_tokens['attention_mask'])"
      ]
    },
    {
      "cell_type": "code",
      "execution_count": null,
      "id": "a2dc8400",
      "metadata": {
        "id": "a2dc8400"
      },
      "outputs": [],
      "source": [
        "train_text_embedding = train_text_embedding.detach().numpy()"
      ]
    },
    {
      "cell_type": "code",
      "execution_count": null,
      "id": "b8ce58fc",
      "metadata": {
        "id": "b8ce58fc"
      },
      "outputs": [],
      "source": [
        "# Tokenize text and get embeddings\n",
        "text_tokens = tokenizer(val_text, padding=True, truncation=True, return_tensors=\"pt\")\n",
        "val_text_embedding = model.get_text_features(text_tokens['input_ids'], text_tokens['attention_mask'])"
      ]
    },
    {
      "cell_type": "code",
      "execution_count": null,
      "id": "bb5982b6",
      "metadata": {
        "id": "bb5982b6"
      },
      "outputs": [],
      "source": [
        "val_text_embedding = val_text_embedding.detach().numpy()"
      ]
    },
    {
      "cell_type": "code",
      "execution_count": null,
      "id": "96349c4a",
      "metadata": {
        "id": "96349c4a"
      },
      "outputs": [],
      "source": [
        "# Tokenize text and get embeddings\n",
        "text_tokens = tokenizer(test_text, padding=True, truncation=True, return_tensors=\"pt\")\n",
        "test_text_embedding = model.get_text_features(text_tokens['input_ids'], text_tokens['attention_mask'])"
      ]
    },
    {
      "cell_type": "code",
      "execution_count": null,
      "id": "3c8052d3",
      "metadata": {
        "id": "3c8052d3"
      },
      "outputs": [],
      "source": [
        "test_text_embedding = test_text_embedding.detach().numpy()"
      ]
    },
    {
      "cell_type": "markdown",
      "id": "51d506d6",
      "metadata": {
        "id": "51d506d6"
      },
      "source": [
        "# Preporcessing image data"
      ]
    },
    {
      "cell_type": "code",
      "execution_count": null,
      "id": "9932f474",
      "metadata": {
        "id": "9932f474"
      },
      "outputs": [],
      "source": [
        "# Get image embeddings\n",
        "test_image_embedding = []\n",
        "for img_url in np.array(test['img']):\n",
        "    # Load image\n",
        "    img_path = 'data/'+ img_url\n",
        "    img = Image.open(img_path).convert('RGB')\n",
        "    img = np.array(img)\n",
        "\n",
        "    # Preprocess image\n",
        "    img = Image.fromarray(np.uint8(img)).resize((224, 224))\n",
        "    img = np.array(img).astype(np.float32) / 255.0\n",
        "    img = (img - 0.5) / 0.5\n",
        "    img = np.transpose(img, (2, 0, 1))\n",
        "\n",
        "    # Get image embedding\n",
        "    image_tensor = torch.tensor(img).unsqueeze(0)\n",
        "    image_embedding = model.get_image_features(image_tensor)\n",
        "    test_image_embedding.append(image_embedding.detach().numpy())"
      ]
    },
    {
      "cell_type": "code",
      "execution_count": null,
      "id": "586c5273",
      "metadata": {
        "scrolled": true,
        "id": "586c5273"
      },
      "outputs": [],
      "source": [
        "test_image_embedding = np.vstack(test_image_embedding)"
      ]
    },
    {
      "cell_type": "code",
      "execution_count": null,
      "id": "88b7d02f",
      "metadata": {
        "id": "88b7d02f"
      },
      "outputs": [],
      "source": [
        "# Get image embeddings\n",
        "train_image_embedding = []\n",
        "for img_url in np.array(train['img']):\n",
        "    # Load image\n",
        "    img_path = 'data/'+ img_url\n",
        "    img = Image.open(img_path).convert('RGB')\n",
        "    img = np.array(img)\n",
        "\n",
        "    # Preprocess image\n",
        "    img = Image.fromarray(np.uint8(img)).resize((224, 224))\n",
        "    img = np.array(img).astype(np.float32) / 255.0\n",
        "    img = (img - 0.5) / 0.5\n",
        "    img = np.transpose(img, (2, 0, 1))\n",
        "\n",
        "    # Get image embedding\n",
        "    image_tensor = torch.tensor(img).unsqueeze(0)\n",
        "    image_embedding = model.get_image_features(image_tensor)\n",
        "    train_image_embedding.append(image_embedding.detach().numpy())"
      ]
    },
    {
      "cell_type": "code",
      "execution_count": null,
      "id": "a08a1124",
      "metadata": {
        "id": "a08a1124"
      },
      "outputs": [],
      "source": [
        "train_image_embedding = np.vstack(train_image_embedding)"
      ]
    },
    {
      "cell_type": "code",
      "execution_count": null,
      "id": "44950b19",
      "metadata": {
        "id": "44950b19"
      },
      "outputs": [],
      "source": [
        "# Get image embeddings\n",
        "val_image_embedding = []\n",
        "for img_url in np.array(val['img']):\n",
        "    # Load image\n",
        "    img_path = 'data/'+ img_url\n",
        "    img = Image.open(img_path).convert('RGB')\n",
        "    img = np.array(img)\n",
        "\n",
        "    # Preprocess image\n",
        "    img = Image.fromarray(np.uint8(img)).resize((224, 224))\n",
        "    img = np.array(img).astype(np.float32) / 255.0\n",
        "    img = (img - 0.5) / 0.5\n",
        "    img = np.transpose(img, (2, 0, 1))\n",
        "\n",
        "    # Get image embedding\n",
        "    image_tensor = torch.tensor(img).unsqueeze(0)\n",
        "    image_embedding = model.get_image_features(image_tensor)\n",
        "    val_image_embedding.append(image_embedding.detach().numpy())"
      ]
    },
    {
      "cell_type": "code",
      "execution_count": null,
      "id": "8098491d",
      "metadata": {
        "id": "8098491d"
      },
      "outputs": [],
      "source": [
        "val_image_embedding = np.vstack(val_image_embedding)"
      ]
    },
    {
      "cell_type": "markdown",
      "id": "04ed804a",
      "metadata": {
        "id": "04ed804a"
      },
      "source": [
        "# Building architecture for final classification"
      ]
    },
    {
      "cell_type": "code",
      "execution_count": null,
      "id": "31ab7e3e",
      "metadata": {
        "id": "31ab7e3e"
      },
      "outputs": [],
      "source": [
        "# create text embedding model\n",
        "text_input = layers.Input(shape=(512,))\n",
        "text_layer1 = layers.Dense(128, activation='relu')(text_input)\n",
        "text_layer2 = layers.Dense(64, activation='relu')(text_layer1)\n",
        "text_output = layers.Dense(32, activation='relu')(text_layer2)\n",
        "text_model = tf.keras.Model(inputs=text_input, outputs=text_output)\n",
        "\n",
        "# create image embedding model\n",
        "image_input = layers.Input(shape=(512,))\n",
        "image_layer1 = layers.Dense(128, activation='relu')(image_input)\n",
        "image_layer2 = layers.Dense(64, activation='relu')(image_layer1)\n",
        "image_output = layers.Dense(32, activation='relu')(image_layer2)\n",
        "image_model = tf.keras.Model(inputs=image_input, outputs=image_output)\n",
        "\n",
        "# concatenate the two models\n",
        "concatenated = layers.concatenate([text_model.output, image_model.output])\n",
        "concatenated_layer = layers.Dense(32, activation='relu')(concatenated)\n",
        "output_layer = layers.Dense(2, activation='sigmoid')(concatenated_layer)\n",
        "model = tf.keras.Model(inputs=[text_model.input, image_model.input], outputs=output_layer)"
      ]
    },
    {
      "cell_type": "code",
      "execution_count": null,
      "id": "ef8d288c",
      "metadata": {
        "id": "ef8d288c"
      },
      "outputs": [],
      "source": [
        "aucroc = tf.keras.metrics.AUC(curve='ROC')"
      ]
    },
    {
      "cell_type": "code",
      "execution_count": null,
      "id": "f8ce45a8",
      "metadata": {
        "id": "f8ce45a8"
      },
      "outputs": [],
      "source": [
        "# Compile the model\n",
        "model.compile(optimizer='adam', loss='sparse_categorical_crossentropy', metrics=['accuracy'])"
      ]
    },
    {
      "cell_type": "code",
      "execution_count": null,
      "id": "e498d788",
      "metadata": {
        "id": "e498d788",
        "outputId": "9e55e029-a432-4820-d585-cd1f59a7a628"
      },
      "outputs": [
        {
          "name": "stdout",
          "output_type": "stream",
          "text": [
            "Epoch 1/10\n",
            "27/27 [==============================] - 1s 11ms/step - loss: 0.6433 - accuracy: 0.6494 - val_loss: 0.7393 - val_accuracy: 0.5200\n",
            "Epoch 2/10\n",
            "27/27 [==============================] - 0s 3ms/step - loss: 0.5186 - accuracy: 0.7471 - val_loss: 0.7256 - val_accuracy: 0.6400\n",
            "Epoch 3/10\n",
            "27/27 [==============================] - 0s 3ms/step - loss: 0.3880 - accuracy: 0.8282 - val_loss: 0.8071 - val_accuracy: 0.5800\n",
            "Epoch 4/10\n",
            "27/27 [==============================] - 0s 3ms/step - loss: 0.2185 - accuracy: 0.9294 - val_loss: 1.1598 - val_accuracy: 0.5200\n",
            "Epoch 5/10\n",
            "27/27 [==============================] - 0s 4ms/step - loss: 0.0923 - accuracy: 0.9729 - val_loss: 1.0730 - val_accuracy: 0.6200\n",
            "Epoch 6/10\n",
            "27/27 [==============================] - 0s 4ms/step - loss: 0.0264 - accuracy: 0.9988 - val_loss: 1.5693 - val_accuracy: 0.5200\n",
            "Epoch 7/10\n",
            "27/27 [==============================] - 0s 4ms/step - loss: 0.0128 - accuracy: 0.9988 - val_loss: 1.7878 - val_accuracy: 0.5600\n",
            "Epoch 8/10\n",
            "27/27 [==============================] - 0s 4ms/step - loss: 0.0106 - accuracy: 0.9988 - val_loss: 2.1468 - val_accuracy: 0.5600\n",
            "Epoch 9/10\n",
            "27/27 [==============================] - 0s 4ms/step - loss: 0.0020 - accuracy: 1.0000 - val_loss: 2.0345 - val_accuracy: 0.5400\n",
            "Epoch 10/10\n",
            "27/27 [==============================] - 0s 4ms/step - loss: 0.0010 - accuracy: 1.0000 - val_loss: 2.0423 - val_accuracy: 0.5400\n"
          ]
        }
      ],
      "source": [
        "# train the model\n",
        "model_history = model.fit([train_text_embedding,train_image_embedding], train_label, epochs=10, batch_size=32,validation_data=([val_text_embedding,val_image_embedding],val_label))"
      ]
    },
    {
      "cell_type": "markdown",
      "id": "76cefecc",
      "metadata": {
        "id": "76cefecc"
      },
      "source": [
        "# Graphs for Final Model"
      ]
    },
    {
      "cell_type": "code",
      "execution_count": null,
      "id": "9f2bc90d",
      "metadata": {
        "id": "9f2bc90d",
        "outputId": "14bff6d6-262a-4074-9482-e367e8ba4000"
      },
      "outputs": [
        {
          "data": {
            "image/png": "[encoded data removed]",
            "text/plain": [
              "<Figure size 432x288 with 1 Axes>"
            ]
          },
          "metadata": {
            "needs_background": "light"
          },
          "output_type": "display_data"
        }
      ],
      "source": [
        "plt.plot(model_history.history['accuracy'])\n",
        "plt.plot(model_history.history['val_accuracy'])\n",
        "plt.title('model accuracy')\n",
        "plt.ylabel('accuracy')\n",
        "plt.xlabel('epoch')\n",
        "plt.legend(['train', 'test'], loc='upper left')\n",
        "plt.show()"
      ]
    },
    {
      "cell_type": "code",
      "execution_count": null,
      "id": "96bd677a",
      "metadata": {
        "id": "96bd677a",
        "outputId": "7540aac4-20ad-44ea-a230-218d0db15126"
      },
      "outputs": [
        {
          "data": {
            "image/png": "[encoded data removed]",
            "text/plain": [
              "<Figure size 432x288 with 1 Axes>"
            ]
          },
          "metadata": {
            "needs_background": "light"
          },
          "output_type": "display_data"
        }
      ],
      "source": [
        "plt.plot(model_history.history['loss'])\n",
        "plt.plot(model_history.history['val_loss'])\n",
        "plt.title('model loss')\n",
        "plt.ylabel('loss')\n",
        "plt.xlabel('epoch')\n",
        "plt.legend(['train', 'test'], loc='upper left')\n",
        "plt.show()"
      ]
    },
    {
      "cell_type": "markdown",
      "id": "6f0b6939",
      "metadata": {
        "id": "6f0b6939"
      },
      "source": [
        "# Save Model and Fetch Model"
      ]
    },
    {
      "cell_type": "code",
      "execution_count": null,
      "id": "35491800",
      "metadata": {
        "id": "35491800"
      },
      "outputs": [],
      "source": [
        "model.save('Final_Clip_Model.h5')"
      ]
    },
    {
      "cell_type": "code",
      "execution_count": null,
      "id": "a22d4d3c",
      "metadata": {
        "id": "a22d4d3c"
      },
      "outputs": [],
      "source": [
        "model = load_model('Final_Clip_Model.h5')"
      ]
    },
    {
      "cell_type": "markdown",
      "id": "80a79a13",
      "metadata": {
        "id": "80a79a13"
      },
      "source": [
        "# Classwise prediction for test data"
      ]
    },
    {
      "cell_type": "code",
      "execution_count": null,
      "id": "1d7ef6e1",
      "metadata": {
        "id": "1d7ef6e1",
        "outputId": "57b75fbd-a6c7-41e2-f70e-f49068c355fa"
      },
      "outputs": [
        {
          "name": "stdout",
          "output_type": "stream",
          "text": [
            "31/31 [==============================] - 0s 2ms/step\n"
          ]
        }
      ],
      "source": [
        "predictions = model.predict([test_image_embedding,test_text_embedding])\n",
        "y_pred = np.argmax(predictions, axis = 1)\n",
        "y_true = test_label"
      ]
    },
    {
      "cell_type": "code",
      "execution_count": null,
      "id": "3f2695ec",
      "metadata": {
        "id": "3f2695ec",
        "outputId": "57ee85b7-f97b-4fbe-ad76-e79d7c6f5cb6"
      },
      "outputs": [
        {
          "name": "stdout",
          "output_type": "stream",
          "text": [
            "              precision    recall  f1-score   support\n",
            "\n",
            "           0       0.56      0.69      0.62       505\n",
            "           1       0.57      0.43      0.49       485\n",
            "\n",
            "    accuracy                           0.56       990\n",
            "   macro avg       0.57      0.56      0.55       990\n",
            "weighted avg       0.57      0.56      0.56       990\n",
            "\n"
          ]
        }
      ],
      "source": [
        "print(classification_report(y_true, y_pred))"
      ]
    },
    {
      "cell_type": "code",
      "execution_count": null,
      "id": "ab545c5b",
      "metadata": {
        "id": "ab545c5b",
        "outputId": "daca2fe4-8b99-40fd-fba3-0ce65b0fa7c9"
      },
      "outputs": [
        {
          "name": "stdout",
          "output_type": "stream",
          "text": [
            "31/31 [==============================] - 0s 2ms/step - loss: 1.3859 - accuracy: 0.5636\n",
            "Accuracy:  0.5636363625526428\n"
          ]
        }
      ],
      "source": [
        "# Evaluate the model\n",
        "loss, accuracy = model.evaluate([test_image_embedding,test_text_embedding], test_label)\n",
        "print('Accuracy: ', accuracy)"
      ]
    },
    {
      "cell_type": "markdown",
      "id": "85bdcd1d",
      "metadata": {
        "id": "85bdcd1d"
      },
      "source": [
        "# Last layer prediction of clip model for TSNE"
      ]
    },
    {
      "cell_type": "code",
      "execution_count": null,
      "id": "33398ec2",
      "metadata": {
        "id": "33398ec2"
      },
      "outputs": [],
      "source": [
        "non_hateful = pd.read_csv('tsne_test_class0.csv')\n",
        "hateful = pd.read_csv('tsne_test_class1.csv')"
      ]
    },
    {
      "cell_type": "code",
      "execution_count": null,
      "id": "d2807e2f",
      "metadata": {
        "id": "d2807e2f"
      },
      "outputs": [],
      "source": [
        "non_hateful_text = []\n",
        "for i in np.array(non_hateful['text']):\n",
        "    non_hateful_text.append(i)"
      ]
    },
    {
      "cell_type": "code",
      "execution_count": null,
      "id": "c9c97bf1",
      "metadata": {
        "id": "c9c97bf1"
      },
      "outputs": [],
      "source": [
        "hateful_text = []\n",
        "for i in np.array(hateful['text']):\n",
        "    hateful_text.append(i)"
      ]
    },
    {
      "cell_type": "code",
      "execution_count": null,
      "id": "c8ba2b85",
      "metadata": {
        "id": "c8ba2b85"
      },
      "outputs": [],
      "source": [
        "# Tokenize text and get embeddings\n",
        "hateful_text_tokens = tokenizer(hateful_text, padding=True, truncation=True, return_tensors=\"pt\")\n",
        "hateful_text_embeddings = model.get_text_features(hateful_text_tokens['input_ids'], hateful_text_tokens['attention_mask'])"
      ]
    },
    {
      "cell_type": "code",
      "execution_count": null,
      "id": "428f5fae",
      "metadata": {
        "id": "428f5fae"
      },
      "outputs": [],
      "source": [
        "hateful_text_embeddings = hateful_text_embeddings.detach().numpy()"
      ]
    },
    {
      "cell_type": "code",
      "execution_count": null,
      "id": "b2530705",
      "metadata": {
        "id": "b2530705"
      },
      "outputs": [],
      "source": [
        "# Tokenize text and get embeddings\n",
        "non_hateful_text_tokens = tokenizer(non_hateful_text, padding=True, truncation=True, return_tensors=\"pt\")\n",
        "non_hateful_text_embeddings = model.get_text_features(non_hateful_text_tokens['input_ids'], non_hateful_text_tokens['attention_mask'])"
      ]
    },
    {
      "cell_type": "code",
      "execution_count": null,
      "id": "c44c4014",
      "metadata": {
        "id": "c44c4014"
      },
      "outputs": [],
      "source": [
        "non_hateful_text_embeddings = non_hateful_text_embeddings.detach().numpy()"
      ]
    },
    {
      "cell_type": "code",
      "execution_count": null,
      "id": "d988d4c6",
      "metadata": {
        "id": "d988d4c6"
      },
      "outputs": [],
      "source": [
        "# Get image embeddings\n",
        "hateful_image_embedding = []\n",
        "for img_url in np.array(hateful['img']):\n",
        "    # Load image\n",
        "    img_path = 'data/'+ img_url\n",
        "    img = Image.open(img_path).convert('RGB')\n",
        "    img = np.array(img)\n",
        "\n",
        "    # Preprocess image\n",
        "    img = Image.fromarray(np.uint8(img)).resize((224, 224))\n",
        "    img = np.array(img).astype(np.float32) / 255.0\n",
        "    img = (img - 0.5) / 0.5\n",
        "    img = np.transpose(img, (2, 0, 1))\n",
        "\n",
        "    # Get image embedding\n",
        "    image_tensor = torch.tensor(img).unsqueeze(0)\n",
        "    image_embedding = model.get_image_features(image_tensor)\n",
        "    hateful_image_embedding.append(image_embedding.detach().numpy())"
      ]
    },
    {
      "cell_type": "code",
      "execution_count": null,
      "id": "352124d1",
      "metadata": {
        "id": "352124d1"
      },
      "outputs": [],
      "source": [
        "hateful_image_embedding = np.vstack(hateful_image_embedding)"
      ]
    },
    {
      "cell_type": "code",
      "execution_count": null,
      "id": "f3e337d4",
      "metadata": {
        "id": "f3e337d4"
      },
      "outputs": [],
      "source": [
        "# Get image embeddings\n",
        "non_hateful_image_embedding = []\n",
        "for img_url in np.array(non_hateful['img']):\n",
        "    # Load image\n",
        "    img_path = 'data/'+ img_url\n",
        "    img = Image.open(img_path).convert('RGB')\n",
        "    img = np.array(img)\n",
        "\n",
        "    # Preprocess image\n",
        "    img = Image.fromarray(np.uint8(img)).resize((224, 224))\n",
        "    img = np.array(img).astype(np.float32) / 255.0\n",
        "    img = (img - 0.5) / 0.5\n",
        "    img = np.transpose(img, (2, 0, 1))\n",
        "\n",
        "    # Get image embedding\n",
        "    image_tensor = torch.tensor(img).unsqueeze(0)\n",
        "    image_embedding = model.get_image_features(image_tensor)\n",
        "    non_hateful_image_embedding.append(image_embedding.detach().numpy())"
      ]
    },
    {
      "cell_type": "code",
      "execution_count": null,
      "id": "1b54acaf",
      "metadata": {
        "id": "1b54acaf"
      },
      "outputs": [],
      "source": [
        "non_hateful_image_embedding = np.vstack(non_hateful_image_embedding)"
      ]
    },
    {
      "cell_type": "code",
      "execution_count": null,
      "id": "8a43649f",
      "metadata": {
        "id": "8a43649f"
      },
      "outputs": [],
      "source": [
        "model = load_model('Final_Clip_Model.h5')"
      ]
    },
    {
      "cell_type": "code",
      "execution_count": null,
      "id": "a1dfce9f",
      "metadata": {
        "id": "a1dfce9f"
      },
      "outputs": [],
      "source": [
        "last_layer_model = Model(inputs=model.input, outputs=model.layers[-2].output)"
      ]
    },
    {
      "cell_type": "code",
      "execution_count": null,
      "id": "6afe77f5",
      "metadata": {
        "id": "6afe77f5",
        "outputId": "010e97a1-5f0c-409c-c44f-a00931380e53"
      },
      "outputs": [
        {
          "name": "stdout",
          "output_type": "stream",
          "text": [
            "2/2 [==============================] - 1s 16ms/step\n"
          ]
        }
      ],
      "source": [
        "hateful_features = last_layer_model.predict([hateful_image_embedding,hateful_text_embeddings])"
      ]
    },
    {
      "cell_type": "code",
      "execution_count": null,
      "id": "1c5c13b9",
      "metadata": {
        "id": "1c5c13b9",
        "outputId": "3a84c04a-4208-42b1-bbc1-b61a8e5a3889"
      },
      "outputs": [
        {
          "name": "stdout",
          "output_type": "stream",
          "text": [
            "2/2 [==============================] - 0s 20ms/step\n"
          ]
        }
      ],
      "source": [
        "non_hateful_features = last_layer_model.predict([non_hateful_image_embedding,non_hateful_text_embeddings])"
      ]
    },
    {
      "cell_type": "code",
      "execution_count": null,
      "id": "eeb67327",
      "metadata": {
        "id": "eeb67327"
      },
      "outputs": [],
      "source": [
        "np.save('Clip_hateful_features.npy', hateful_features)\n",
        "np.save('Clip_non_hateful_features.npy', non_hateful_features)\n",
        "np.save('Clip_hateful_label.npy',hateful['label'])\n",
        "np.save('Clip_non_hateful_label.npy',non_hateful['label'])"
      ]
    },
    {
      "cell_type": "code",
      "execution_count": null,
      "id": "170924bd",
      "metadata": {
        "id": "170924bd"
      },
      "outputs": [],
      "source": [
        "hateful_features = np.load('Clip_hateful_features.npy')\n",
        "hateful_label = np.load('Clip_hateful_label.npy')\n",
        "non_hateful_features = np.load('Clip_non_hateful_features.npy')\n",
        "non_hateful_label = np.load('Clip_non_hateful_label.npy')"
      ]
    },
    {
      "cell_type": "markdown",
      "id": "407fa892",
      "metadata": {
        "id": "407fa892"
      },
      "source": [
        "# Visualization of CLIP Model for TSNE"
      ]
    },
    {
      "cell_type": "code",
      "execution_count": null,
      "id": "2759f900",
      "metadata": {
        "scrolled": true,
        "id": "2759f900",
        "outputId": "abc65446-fc02-48ca-b710-0c1c11ae62a7"
      },
      "outputs": [
        {
          "name": "stderr",
          "output_type": "stream",
          "text": [
            "C:\\Users\\HP\\anaconda3\\lib\\site-packages\\sklearn\\manifold\\_t_sne.py:795: FutureWarning: The default initialization in TSNE will change from 'random' to 'pca' in 1.2.\n",
            "  warnings.warn(\n",
            "C:\\Users\\HP\\anaconda3\\lib\\site-packages\\sklearn\\manifold\\_t_sne.py:805: FutureWarning: The default learning rate in TSNE will change from 200.0 to 'auto' in 1.2.\n",
            "  warnings.warn(\n",
            "C:\\Users\\HP\\anaconda3\\lib\\site-packages\\sklearn\\manifold\\_t_sne.py:795: FutureWarning: The default initialization in TSNE will change from 'random' to 'pca' in 1.2.\n",
            "  warnings.warn(\n",
            "C:\\Users\\HP\\anaconda3\\lib\\site-packages\\sklearn\\manifold\\_t_sne.py:805: FutureWarning: The default learning rate in TSNE will change from 200.0 to 'auto' in 1.2.\n",
            "  warnings.warn(\n"
          ]
        }
      ],
      "source": [
        "# Perform t-SNE dimensionality reduction on the features\n",
        "tsne = TSNE(n_components=2, random_state=42)\n",
        "tsne_hateful_features = tsne.fit_transform(hateful_features)\n",
        "tsne_non_hateful_features = tsne.fit_transform(non_hateful_features)"
      ]
    },
    {
      "cell_type": "code",
      "execution_count": null,
      "id": "aeb98173",
      "metadata": {
        "id": "aeb98173",
        "outputId": "2ad9333c-f85c-4307-e04e-7a621177a2bd"
      },
      "outputs": [
        {
          "data": {
            "text/plain": [
              "<matplotlib.legend.Legend at 0x213275e1b50>"
            ]
          },
          "execution_count": 103,
          "metadata": {},
          "output_type": "execute_result"
        },
        {
          "data": {
            "image/png": "[encoded data removed]",
            "text/plain": [
              "<Figure size 576x360 with 1 Axes>"
            ]
          },
          "metadata": {
            "needs_background": "light"
          },
          "output_type": "display_data"
        }
      ],
      "source": [
        "plt.figure(figsize=(8,5))\n",
        "plt.scatter(tsne_hateful_features[:,0], tsne_hateful_features[:,1], c=hateful_label, marker='o')\n",
        "plt.scatter(tsne_non_hateful_features[:,0], tsne_non_hateful_features[:,1], c=non_hateful_label, marker='*')\n",
        "\n",
        "plt.xlabel(\"Component 1\")\n",
        "plt.ylabel(\"Component 2\")\n",
        "\n",
        "plt.title(\"2D tSNE plot of Hate & Non-Hate features\")\n",
        "plt.legend(['Hate','Non-Hate'])"
      ]
    }
  ],
  "metadata": {
    "kernelspec": {
      "display_name": "Python 3 (ipykernel)",
      "language": "python",
      "name": "python3"
    },
    "language_info": {
      "codemirror_mode": {
        "name": "ipython",
        "version": 3
      },
      "file_extension": ".py",
      "mimetype": "text/x-python",
      "name": "python",
      "nbconvert_exporter": "python",
      "pygments_lexer": "ipython3",
      "version": "3.9.7"
    },
    "colab": {
      "provenance": []
    }
  },
  "nbformat": 4,
  "nbformat_minor": 5
}